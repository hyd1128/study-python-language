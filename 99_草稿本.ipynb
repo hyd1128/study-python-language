{
 "cells": [
  {
   "cell_type": "markdown",
   "source": [
    "## 基本概念\n",
    "\n",
    "APScheduler 有如下四种组件：\n",
    "\n",
    "**triggers 触发器**:包含具体的角度逻辑。每个 job 都会有自己的触发器，由它来决定下一个要运行的 job 。在触发器被初始化配置之前，它们都是完全无状态（stateless）的。\n",
    "\n",
    "**job stores 作业存储**:存放被调度的 job 。默认的作业存储只是简单地将作业存储在内存中，但也可以存储到各种数据库中。当一个 job 保存到一个持久化地作业存储中时，其数据必须要被序列化（serialized），当它们被加载回来时再执行反序列化（deserialized）。非默认的作业存储不会将作业数据保存到内存中，相反，内存会作为后端存储介质在保存、加载、更新和搜索 job 过程中的中间人。作业存储不会在调度器（scheduler）之间共享。\n",
    "\n",
    "**executors 执行器**:负责处理运行中的作业。通常它们都是负责将 job 中指定的可调用的部分提交到线程或进程池。当 job 完成后，执行器会通知（notifies）调度器，由调度器随后发出（emits）一个恰当的事件（event）。\n",
    "\n",
    "**schedulers 调度器**: 调度器负责将以上的东西结合在一起。一般情况下，你的应用程序只会有一个调度器在运行。应用程序的开发者通常不用直接面对 trigger ， job stores 以及 executor ，相反，调度器会提供合适的接口让开发者去管理它们 —— 通过调度程序来配置 job stores 和 executor 来实现诸如添加、修该和删除 job 。"
   ],
   "metadata": {
    "collapsed": false
   },
   "id": "97b035467b36e5dd"
  },
  {
   "cell_type": "markdown",
   "source": [
    "## 调度器选择\n",
    "scheduler 的选择取决于你程序的运行环境以及你想用 APScheduler 完成什么任务。这里有一份快速决定 scheduler 的指南：\n",
    "\n",
    "BlockingScheduler: 如果调度器是你程序中唯一要运行的东西，请选择它\n",
    "\n",
    "BackgroundScheduler: 如果你想你的调度器可以在你的应用程序后台静默运行，同时也不打算使用以下任何 Python 框架，请选择它\n",
    "\n",
    "AsyncIOScheduler: 如果你的程序使用了 asyncio 库，请使用这个调度器\n",
    "\n",
    "GeventScheduler: 如果你的程序使用了 gevent 库，请使用这个调度器\n",
    "\n",
    "TornadoScheduler: 如果你打算构建一个 Tornado 程序，请使用这个调度器\n",
    "\n",
    "TwistedScheduler: 如果你打算构建一个 Twisted 程序，请使用这个调度器\n",
    "\n",
    "QtScheduler: 如果你打算构建一个 Qt 程序，请使用这个调度器"
   ],
   "metadata": {
    "collapsed": false
   },
   "id": "122f6cf9fa334da9"
  },
  {
   "cell_type": "markdown",
   "source": [
    "## 储存器选择\n",
    "**MemoryJobStore**: 总是再应用程序开始的时候重新创建你的作业，那么你适合用默认的选项（MemoryJobStore）。\n",
    "\n",
    "**SQLAlchemyJobStore**: 需要持久化你的作业以面对 scheduler 重启或者应用程序崩溃的情况，那么你的选择通常需要考虑你在程序运行环境中所使用的工具。当然，如果你可以自由选择的话，我们建议使用 SQLAlchemyJobStore 配合 PostgreSQL 作为后端存储，因为这个组合提供了强大的数据完整性的保障。"
   ],
   "metadata": {
    "collapsed": false
   },
   "id": "f4a9af011c30b032"
  },
  {
   "cell_type": "markdown",
   "source": [
    "## 触发器选择\n",
    "date 在某个确定的时间点运行你的 job （只运行一次）\n",
    "\n",
    "interval 在固定的时间间隔周期性地运行你的 job\n",
    "\n",
    "cron 在一天的某些固定时间点周期性地运行你的 job"
   ],
   "metadata": {
    "collapsed": false
   },
   "id": "100196b2398e50a2"
  },
  {
   "cell_type": "code",
   "execution_count": 3,
   "outputs": [],
   "source": [
    "# 使用默认的 job store 以及默认的 executor ，在你的应用程序中运行一个 BackgroundScheduler\n",
    "from apscheduler.schedulers.background import BackgroundScheduler\n",
    "\n",
    "scheduler = BackgroundScheduler()\n",
    "# 在这里可以初始化应用程序的剩余部分，当然也可以在初始化 scheduler 之前完成"
   ],
   "metadata": {
    "collapsed": false,
    "ExecuteTime": {
     "end_time": "2024-12-27T06:10:41.751315300Z",
     "start_time": "2024-12-27T06:10:41.729447500Z"
    }
   },
   "id": "1ed1f13a910318e3"
  },
  {
   "cell_type": "code",
   "execution_count": 5,
   "outputs": [],
   "source": [
    "\"\"\"\n",
    "下面是一个更加复杂而具体的例子：你有两个 job store 以及两个 executor ，同时要求调整新作业的默认值以设置不同的时区。以下的三段代码片段都是等价的。你会得到：\n",
    "\n",
    "一个叫 mongo 的 MongoDBJobStore\n",
    "一个叫 default 的 SQLAlchemyJobStore （使用 SQLite）\n",
    "一个叫 default 的 ThreadPoolExecutor，使用 20 个工作线程\n",
    "一个叫做 processpool 的 ProcessPoolExecutor，使用 5 个工作进程\n",
    "UTC 是调度器的时区\n",
    "新 job 默认关闭聚合（coalescing）功能\n",
    "每个新 job 默认限制最大实例数为 3\n",
    "\"\"\"\n",
    "# Method 1\n",
    "from pytz import utc\n",
    "\n",
    "from apscheduler.schedulers.background import BackgroundScheduler\n",
    "from apscheduler.jobstores.mongodb import MongoDBJobStore\n",
    "from apscheduler.jobstores.sqlalchemy import SQLAlchemyJobStore\n",
    "from apscheduler.executors.pool import ThreadPoolExecutor, ProcessPoolExecutor\n",
    "\n",
    "jobstores = {\n",
    "    'mongo': MongoDBJobStore(),\n",
    "    'default': SQLAlchemyJobStore(url='sqlite:///jobs.sqlite')\n",
    "}\n",
    "\n",
    "executors = {\n",
    "    'default': ThreadPoolExecutor(20),\n",
    "    'processpool': ProcessPoolExecutor(5)\n",
    "}\n",
    "\n",
    "job_defaults = {\n",
    "    'coalesce': False,\n",
    "    'max_instances': 3\n",
    "}\n",
    "\n",
    "scheduler = BackgroundScheduler(jobstores=jobstores, executors=executors, job_defaults=job_defaults, timezone=utc)\n"
   ],
   "metadata": {
    "collapsed": false,
    "ExecuteTime": {
     "end_time": "2024-12-27T06:12:25.310643300Z",
     "start_time": "2024-12-27T06:12:25.013548Z"
    }
   },
   "id": "6739586afa01a3b2"
  },
  {
   "cell_type": "code",
   "execution_count": 3,
   "outputs": [],
   "source": [
    "# Method 2\n",
    "from apscheduler.schedulers.background import BackgroundScheduler\n",
    "\n",
    "# 前缀 \"apscheduler.\" 是硬编码的\n",
    "scheduler = BackgroundScheduler({\n",
    "    'apscheduler.jobstores.mongo': {\n",
    "         'type': 'mongodb'\n",
    "    },\n",
    "    'apscheduler.jobstores.default': {\n",
    "        'type': 'sqlalchemy',\n",
    "        'url': 'sqlite:///jobs.sqlite'\n",
    "    },\n",
    "    'apscheduler.executors.default': {\n",
    "        'class': 'apscheduler.executors.pool:ThreadPoolExecutor',\n",
    "        'max_workers': '20'\n",
    "    },\n",
    "    'apscheduler.executors.processpool': {\n",
    "        'type': 'processpool',\n",
    "        'max_workers': '5'\n",
    "    },\n",
    "    'apscheduler.job_defaults.coalesce': 'false',\n",
    "    'apscheduler.job_defaults.max_instances': '3',\n",
    "    'apscheduler.timezone': 'UTC',\n",
    "})"
   ],
   "metadata": {
    "collapsed": false,
    "ExecuteTime": {
     "end_time": "2024-12-27T02:37:54.457550900Z",
     "start_time": "2024-12-27T02:37:54.453416Z"
    }
   },
   "id": "6d0ff12e560dd0e2"
  },
  {
   "cell_type": "code",
   "execution_count": null,
   "outputs": [],
   "source": [
    "# Method 3\n",
    "from pytz import utc\n",
    "\n",
    "from apscheduler.schedulers.background import BackgroundScheduler\n",
    "from apscheduler.jobstores.sqlalchemy import SQLAlchemyJobStore\n",
    "from apscheduler.executors.pool import ProcessPoolExecutor\n",
    "\n",
    "\n",
    "jobstores = {\n",
    "    'mongo': {'type': 'mongodb'},\n",
    "    'default': SQLAlchemyJobStore(url='sqlite:///jobs.sqlite')\n",
    "}\n",
    "executors = {\n",
    "    'default': {'type': 'threadpool', 'max_workers': 20},\n",
    "    'processpool': ProcessPoolExecutor(max_workers=5)\n",
    "}\n",
    "job_defaults = {\n",
    "    'coalesce': False,\n",
    "    'max_instances': 3\n",
    "}\n",
    "scheduler = BackgroundScheduler()\n",
    "\n",
    "# do something else here, maybe add jobs etc.\n",
    "\n",
    "scheduler.configure(jobstores=jobstores, executors=executors, job_defaults=job_defaults, timezone=utc)\n"
   ],
   "metadata": {
    "collapsed": false
   },
   "id": "6387617153dbc739"
  },
  {
   "cell_type": "markdown",
   "source": [
    "## trigger详解\n",
    "### date trigger\n",
    "### interval trigger\n",
    "### cron trigger"
   ],
   "metadata": {
    "collapsed": false
   },
   "id": "6ac7251c95441d57"
  },
  {
   "cell_type": "code",
   "execution_count": 21,
   "outputs": [
    {
     "ename": "ValueError",
     "evalue": "Invalid format string",
     "output_type": "error",
     "traceback": [
      "\u001B[1;31m---------------------------------------------------------------------------\u001B[0m",
      "\u001B[1;31mValueError\u001B[0m                                Traceback (most recent call last)",
      "Cell \u001B[1;32mIn[21], line 17\u001B[0m\n\u001B[0;32m     13\u001B[0m sched\u001B[38;5;241m.\u001B[39madd_job(my_job, \u001B[38;5;124m\"\u001B[39m\u001B[38;5;124mdate\u001B[39m\u001B[38;5;124m\"\u001B[39m, run_date\u001B[38;5;241m=\u001B[39mtime, args\u001B[38;5;241m=\u001B[39m[\u001B[38;5;124m\"\u001B[39m\u001B[38;5;124mtext\u001B[39m\u001B[38;5;124m\"\u001B[39m])\n\u001B[0;32m     16\u001B[0m \u001B[38;5;66;03m# 另一种写法\u001B[39;00m\n\u001B[1;32m---> 17\u001B[0m sched\u001B[38;5;241m.\u001B[39madd_job(my_job, \u001B[38;5;124m\"\u001B[39m\u001B[38;5;124mdate\u001B[39m\u001B[38;5;124m\"\u001B[39m, run_date\u001B[38;5;241m=\u001B[39m\u001B[43mtime\u001B[49m\u001B[38;5;241;43m.\u001B[39;49m\u001B[43mstrftime\u001B[49m\u001B[43m(\u001B[49m\u001B[38;5;124;43m\"\u001B[39;49m\u001B[38;5;124;43m%\u001B[39;49m\u001B[38;5;124;43mY-\u001B[39;49m\u001B[38;5;124;43m%\u001B[39;49m\u001B[38;5;124;43mm-\u001B[39;49m\u001B[38;5;132;43;01m%d\u001B[39;49;00m\u001B[38;5;124;43m \u001B[39;49m\u001B[38;5;124;43m%\u001B[39;49m\u001B[38;5;124;43mH:\u001B[39;49m\u001B[38;5;124;43m%\u001B[39;49m\u001B[38;5;124;43mM\u001B[39;49m\u001B[38;5;124;43m%\u001B[39;49m\u001B[38;5;124;43m:\u001B[39;49m\u001B[38;5;124;43m%\u001B[39;49m\u001B[38;5;124;43mS\u001B[39;49m\u001B[38;5;124;43m\"\u001B[39;49m\u001B[43m)\u001B[49m, args\u001B[38;5;241m=\u001B[39m[\u001B[38;5;124m\"\u001B[39m\u001B[38;5;124mtext\u001B[39m\u001B[38;5;124m\"\u001B[39m])\n\u001B[0;32m     19\u001B[0m sched\u001B[38;5;241m.\u001B[39mstart()\n",
      "\u001B[1;31mValueError\u001B[0m: Invalid format string"
     ]
    }
   ],
   "source": [],
   "metadata": {
    "collapsed": false,
    "ExecuteTime": {
     "end_time": "2024-12-27T07:58:53.272582600Z",
     "start_time": "2024-12-27T07:58:53.249584200Z"
    }
   },
   "id": "25f18c3a4df4db0b"
  },
  {
   "cell_type": "code",
   "execution_count": null,
   "outputs": [],
   "source": [],
   "metadata": {
    "collapsed": false
   },
   "id": "a9670943591f3fc2"
  },
  {
   "cell_type": "code",
   "execution_count": null,
   "outputs": [],
   "source": [],
   "metadata": {
    "collapsed": false
   },
   "id": "fceea33a4b43e51b"
  },
  {
   "cell_type": "code",
   "execution_count": null,
   "outputs": [],
   "source": [],
   "metadata": {
    "collapsed": false
   },
   "id": "83e92c33f633db02"
  },
  {
   "cell_type": "code",
   "execution_count": null,
   "outputs": [],
   "source": [],
   "metadata": {
    "collapsed": false
   },
   "id": "ed5171ef98e8b772"
  },
  {
   "cell_type": "code",
   "execution_count": null,
   "outputs": [],
   "source": [],
   "metadata": {
    "collapsed": false
   },
   "id": "dbc6fd275ed21c62"
  },
  {
   "cell_type": "code",
   "execution_count": null,
   "outputs": [],
   "source": [],
   "metadata": {
    "collapsed": false
   },
   "id": "40a8dbc328798e1e"
  },
  {
   "cell_type": "code",
   "execution_count": null,
   "outputs": [],
   "source": [],
   "metadata": {
    "collapsed": false
   },
   "id": "bccd0372e4f736f4"
  }
 ],
 "metadata": {
  "kernelspec": {
   "display_name": "Python 3",
   "language": "python",
   "name": "python3"
  },
  "language_info": {
   "codemirror_mode": {
    "name": "ipython",
    "version": 2
   },
   "file_extension": ".py",
   "mimetype": "text/x-python",
   "name": "python",
   "nbconvert_exporter": "python",
   "pygments_lexer": "ipython2",
   "version": "2.7.6"
  }
 },
 "nbformat": 4,
 "nbformat_minor": 5
}
