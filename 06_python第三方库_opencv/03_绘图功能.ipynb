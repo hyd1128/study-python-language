{
 "cells": [
  {
   "cell_type": "code",
   "execution_count": 7,
   "outputs": [],
   "source": [
    "import numpy as np\n",
    "import cv2 as cv\n",
    "\n",
    "# 创建一个黑色的图像\n",
    "img = np.zeros((512, 512, 3), np.uint8)\n",
    "# 画一条 5px 宽的蓝色对角线\n",
    "cv.line(img, (0, 0), (511, 511), (255, 0, 0), 5)\n",
    "cv.imshow('image',img)\n",
    "cv.waitKey(0)\n",
    "cv.destroyAllWindows()"
   ],
   "metadata": {
    "collapsed": false,
    "ExecuteTime": {
     "end_time": "2024-12-17T09:49:32.607884200Z",
     "start_time": "2024-12-17T09:49:18.981901600Z"
    }
   },
   "id": "6850f94269a28474"
  },
  {
   "cell_type": "code",
   "execution_count": 8,
   "outputs": [],
   "source": [
    "cv.rectangle(img, (384, 0), (510, 128), (0, 255, 0), 3)\n",
    "cv.imshow('image',img)\n",
    "cv.waitKey(0)\n",
    "cv.destroyAllWindows()"
   ],
   "metadata": {
    "collapsed": false,
    "ExecuteTime": {
     "end_time": "2024-12-17T09:49:44.023645200Z",
     "start_time": "2024-12-17T09:49:42.298563100Z"
    }
   },
   "id": "b5057b9a430f02de"
  },
  {
   "cell_type": "code",
   "execution_count": 9,
   "outputs": [],
   "source": [
    "cv.circle(img, (447, 63), 63, (0, 0, 255), -1)\n",
    "cv.imshow('image',img)\n",
    "cv.waitKey(0)\n",
    "cv.destroyAllWindows()"
   ],
   "metadata": {
    "collapsed": false,
    "ExecuteTime": {
     "end_time": "2024-12-17T09:49:50.005103Z",
     "start_time": "2024-12-17T09:49:47.953100800Z"
    }
   },
   "id": "53ef571327b3cb8b"
  },
  {
   "cell_type": "code",
   "execution_count": 11,
   "outputs": [],
   "source": [
    "cv.ellipse(img,(256,256),(100,50),0,0,180,255,-1)\n",
    "cv.imshow('image',img)\n",
    "cv.waitKey(0)\n",
    "cv.destroyAllWindows()"
   ],
   "metadata": {
    "collapsed": false,
    "ExecuteTime": {
     "end_time": "2024-12-17T09:50:05.903828100Z",
     "start_time": "2024-12-17T09:50:03.694986Z"
    }
   },
   "id": "50ab10bbd730d2b"
  },
  {
   "cell_type": "code",
   "execution_count": 10,
   "outputs": [],
   "source": [
    "pts = np.array([[10,5],[20,30],[70,20],[50,10]], np.int32)\n",
    "pts = pts.reshape((-1,1,2))\n",
    "cv.polylines(img,[pts],True,(0,255,255))\n",
    "cv.imshow('image',img)\n",
    "cv.waitKey(0)\n",
    "cv.destroyAllWindows()"
   ],
   "metadata": {
    "collapsed": false,
    "ExecuteTime": {
     "end_time": "2024-12-17T09:49:59.165785500Z",
     "start_time": "2024-12-17T09:49:53.275517200Z"
    }
   },
   "id": "d755696d0feb58aa"
  },
  {
   "cell_type": "code",
   "execution_count": null,
   "outputs": [],
   "source": [],
   "metadata": {
    "collapsed": false
   },
   "id": "f43a8aa062f3b390"
  }
 ],
 "metadata": {
  "kernelspec": {
   "display_name": "Python 3",
   "language": "python",
   "name": "python3"
  },
  "language_info": {
   "codemirror_mode": {
    "name": "ipython",
    "version": 2
   },
   "file_extension": ".py",
   "mimetype": "text/x-python",
   "name": "python",
   "nbconvert_exporter": "python",
   "pygments_lexer": "ipython2",
   "version": "2.7.6"
  }
 },
 "nbformat": 4,
 "nbformat_minor": 5
}
