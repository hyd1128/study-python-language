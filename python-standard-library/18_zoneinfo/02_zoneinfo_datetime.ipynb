{
 "cells": [
  {
   "cell_type": "code",
   "execution_count": 1,
   "id": "initial_id",
   "metadata": {
    "collapsed": true,
    "ExecuteTime": {
     "end_time": "2025-03-19T09:24:04.837451200Z",
     "start_time": "2025-03-19T09:24:04.813901800Z"
    }
   },
   "outputs": [],
   "source": [
    "from datetime import datetime\n",
    "from zoneinfo import ZoneInfo, available_timezones"
   ]
  },
  {
   "cell_type": "code",
   "execution_count": 13,
   "outputs": [],
   "source": [],
   "metadata": {
    "collapsed": false,
    "ExecuteTime": {
     "end_time": "2025-03-19T09:32:07.468227500Z",
     "start_time": "2025-03-19T09:32:07.464716600Z"
    }
   },
   "id": "fb87c944857badbf"
  },
  {
   "cell_type": "code",
   "execution_count": 0,
   "outputs": [],
   "source": [
    "# datetime分为感知型和简单型\n",
    "# 感知型就是带时区的datetime\n",
    "# 简单型就是不带时区的datetime\n",
    "\n",
    "format = \"%Y-%m-%d %H:%M:%S\""
   ],
   "metadata": {
    "collapsed": false
   },
   "id": "f312f44607af1719"
  },
  {
   "cell_type": "code",
   "execution_count": 10,
   "outputs": [
    {
     "data": {
      "text/plain": "'2025-03-19 17:31:18'"
     },
     "execution_count": 10,
     "metadata": {},
     "output_type": "execute_result"
    }
   ],
   "source": [
    "datetime.now().strftime(format)"
   ],
   "metadata": {
    "collapsed": false,
    "ExecuteTime": {
     "end_time": "2025-03-19T09:31:18.181278500Z",
     "start_time": "2025-03-19T09:31:18.176104700Z"
    }
   },
   "id": "a1bab0eb0fb3087b"
  },
  {
   "cell_type": "code",
   "execution_count": 15,
   "outputs": [
    {
     "data": {
      "text/plain": "'2025-03-19 05:34:26'"
     },
     "execution_count": 15,
     "metadata": {},
     "output_type": "execute_result"
    }
   ],
   "source": [
    "datetime.now(tz=ZoneInfo(\"America/New_York\")).strftime(format)"
   ],
   "metadata": {
    "collapsed": false,
    "ExecuteTime": {
     "end_time": "2025-03-19T09:34:26.116326600Z",
     "start_time": "2025-03-19T09:34:26.109601600Z"
    }
   },
   "id": "c976d14d81497cf2"
  },
  {
   "cell_type": "code",
   "execution_count": 24,
   "outputs": [],
   "source": [
    "str1 = \"2025-03-19 05:34:26\""
   ],
   "metadata": {
    "collapsed": false,
    "ExecuteTime": {
     "end_time": "2025-03-19T09:37:13.763532200Z",
     "start_time": "2025-03-19T09:37:13.756600Z"
    }
   },
   "id": "14ae6022cc88907e"
  },
  {
   "cell_type": "code",
   "execution_count": 25,
   "outputs": [
    {
     "name": "stdout",
     "output_type": "stream",
     "text": [
      "None\n",
      "None\n",
      "None\n"
     ]
    }
   ],
   "source": [
    "dt1 = datetime.strptime(str1, format)\n",
    "print(dt1.tzinfo)\n",
    "print(dt1.tzname())\n",
    "print(dt1.dst())"
   ],
   "metadata": {
    "collapsed": false,
    "ExecuteTime": {
     "end_time": "2025-03-19T09:37:15.864146400Z",
     "start_time": "2025-03-19T09:37:15.857434400Z"
    }
   },
   "id": "635cd42cba93febd"
  },
  {
   "cell_type": "code",
   "execution_count": 29,
   "outputs": [
    {
     "name": "stdout",
     "output_type": "stream",
     "text": [
      "America/New_York\n",
      "EDT\n",
      "1:00:00\n",
      "-1 day, 20:00:00\n",
      "2025-03-19 05:34:26-04:00\n"
     ]
    }
   ],
   "source": [
    "dt2 = datetime.strptime(str1, format).replace(tzinfo=ZoneInfo(\"America/New_York\"))\n",
    "print(dt2.tzinfo)\n",
    "print(dt2.tzname())\n",
    "print(dt2.dst())\n",
    "print(dt2.utcoffset())\n",
    "print(dt2)"
   ],
   "metadata": {
    "collapsed": false,
    "ExecuteTime": {
     "end_time": "2025-03-19T09:41:19.476948300Z",
     "start_time": "2025-03-19T09:41:19.468499200Z"
    }
   },
   "id": "905dc909591d3c38"
  },
  {
   "cell_type": "code",
   "execution_count": null,
   "outputs": [],
   "source": [
    "#!/usr/bin/env python3\n",
    "# -*- coding: utf-8 -*-\n",
    "import zoneinfo\n",
    "from datetime import datetime\n",
    "\n",
    "\n",
    "class TimeZone:\n",
    "    def __init__(self, tz: str = 'Asia/Singapore'):\n",
    "        self.tz_info = zoneinfo.ZoneInfo(tz)\n",
    "\n",
    "    def now(self) -> datetime:\n",
    "        \"\"\"\n",
    "        获取时区时间\n",
    "\n",
    "        :return:\n",
    "        \"\"\"\n",
    "        return datetime.now(self.tz_info)\n",
    "\n",
    "    def f_datetime(self, dt: datetime) -> datetime:\n",
    "        \"\"\"\n",
    "        datetime 时间转时区时间\n",
    "\n",
    "        :param dt:\n",
    "        :return:\n",
    "        \"\"\"\n",
    "        return dt.strf\n",
    "        return dt.astimezone(self.tz_info)\n",
    "\n",
    "    def f_str(self, date_str: str, format_str: str = 'Asia/Singapore') -> datetime:\n",
    "        \"\"\"\n",
    "        时间字符串转时区时间\n",
    "\n",
    "        :param date_str:\n",
    "        :param format_str:\n",
    "        :return:\n",
    "        \"\"\"\n",
    "        return datetime.strptime(date_str, format_str).replace(tzinfo=self.tz_info)\n",
    "\n",
    "\n",
    "timezone = TimeZone()"
   ],
   "metadata": {
    "collapsed": false
   },
   "id": "306aa9e82b16913e"
  },
  {
   "cell_type": "code",
   "execution_count": 1,
   "outputs": [
    {
     "name": "stdout",
     "output_type": "stream",
     "text": [
      "123\n"
     ]
    }
   ],
   "source": [
    "d1 = {\"123\": \"123\"}\n",
    "print(d1.get(\"123\"))"
   ],
   "metadata": {
    "collapsed": false,
    "ExecuteTime": {
     "end_time": "2025-03-20T02:17:39.476513400Z",
     "start_time": "2025-03-20T02:17:39.457491900Z"
    }
   },
   "id": "3debd88e6e017d0a"
  },
  {
   "cell_type": "code",
   "execution_count": 2,
   "outputs": [
    {
     "name": "stdout",
     "output_type": "stream",
     "text": [
      "None\n"
     ]
    }
   ],
   "source": [
    "print(d1.get(\"124\"))"
   ],
   "metadata": {
    "collapsed": false,
    "ExecuteTime": {
     "end_time": "2025-03-20T02:17:50.880393200Z",
     "start_time": "2025-03-20T02:17:50.866865800Z"
    }
   },
   "id": "f315cec1aeba1f9a"
  },
  {
   "cell_type": "code",
   "execution_count": 6,
   "outputs": [
    {
     "ename": "KeyError",
     "evalue": "'133'",
     "output_type": "error",
     "traceback": [
      "\u001B[1;31m---------------------------------------------------------------------------\u001B[0m",
      "\u001B[1;31mKeyError\u001B[0m                                  Traceback (most recent call last)",
      "Cell \u001B[1;32mIn[6], line 1\u001B[0m\n\u001B[1;32m----> 1\u001B[0m \u001B[38;5;28mprint\u001B[39m(\u001B[43md1\u001B[49m\u001B[43m[\u001B[49m\u001B[38;5;124;43m\"\u001B[39;49m\u001B[38;5;124;43m133\u001B[39;49m\u001B[38;5;124;43m\"\u001B[39;49m\u001B[43m]\u001B[49m)\n",
      "\u001B[1;31mKeyError\u001B[0m: '133'"
     ]
    }
   ],
   "source": [
    "print(d1[\"133\"])"
   ],
   "metadata": {
    "collapsed": false,
    "ExecuteTime": {
     "end_time": "2025-03-20T02:18:11.060825700Z",
     "start_time": "2025-03-20T02:18:11.044126600Z"
    }
   },
   "id": "a42801000e3ba31f"
  },
  {
   "cell_type": "code",
   "execution_count": null,
   "outputs": [],
   "source": [],
   "metadata": {
    "collapsed": false
   },
   "id": "f6df2180faebebf1"
  }
 ],
 "metadata": {
  "kernelspec": {
   "display_name": "Python 3",
   "language": "python",
   "name": "python3"
  },
  "language_info": {
   "codemirror_mode": {
    "name": "ipython",
    "version": 2
   },
   "file_extension": ".py",
   "mimetype": "text/x-python",
   "name": "python",
   "nbconvert_exporter": "python",
   "pygments_lexer": "ipython2",
   "version": "2.7.6"
  }
 },
 "nbformat": 4,
 "nbformat_minor": 5
}
