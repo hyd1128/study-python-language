{
 "cells": [
  {
   "cell_type": "code",
   "execution_count": 2,
   "id": "initial_id",
   "metadata": {
    "collapsed": true,
    "ExecuteTime": {
     "end_time": "2025-02-27T07:44:02.564983300Z",
     "start_time": "2025-02-27T07:44:02.549068600Z"
    }
   },
   "outputs": [],
   "source": [
    "from datetime import datetime"
   ]
  },
  {
   "cell_type": "code",
   "execution_count": 8,
   "outputs": [
    {
     "data": {
      "text/plain": "-2.0"
     },
     "execution_count": 8,
     "metadata": {},
     "output_type": "execute_result"
    }
   ],
   "source": [
    "dt1 = datetime(year=2025, month=2, day=1, hour=1, minute=1, second=2)\n",
    "dt2 = datetime(year=2025, month=2, day=1, hour=1, minute=1, second=0)\n",
    "total_second = (dt2 - dt1).total_seconds()\n",
    "total_second"
   ],
   "metadata": {
    "collapsed": false,
    "ExecuteTime": {
     "end_time": "2025-02-27T07:51:26.428305600Z",
     "start_time": "2025-02-27T07:51:26.419821400Z"
    }
   },
   "id": "6cbbb7f54a962f06"
  },
  {
   "cell_type": "code",
   "execution_count": 5,
   "outputs": [],
   "source": [
    "dt2 = datetime(year=2025, month=2, day=2)"
   ],
   "metadata": {
    "collapsed": false,
    "ExecuteTime": {
     "end_time": "2025-02-27T07:45:03.996293700Z",
     "start_time": "2025-02-27T07:45:03.988748200Z"
    }
   },
   "id": "f7046e4e87dc852f"
  },
  {
   "cell_type": "code",
   "execution_count": 7,
   "outputs": [
    {
     "data": {
      "text/plain": "False"
     },
     "execution_count": 7,
     "metadata": {},
     "output_type": "execute_result"
    }
   ],
   "source": [
    "dt2 < dt1"
   ],
   "metadata": {
    "collapsed": false,
    "ExecuteTime": {
     "end_time": "2025-02-27T07:45:17.676296500Z",
     "start_time": "2025-02-27T07:45:17.668137600Z"
    }
   },
   "id": "2952e97eefab4bf6"
  },
  {
   "cell_type": "code",
   "execution_count": 11,
   "outputs": [],
   "source": [
    "import time\n",
    "\n",
    "\n",
    "def test_while(n):\n",
    "    while True:\n",
    "        if n < 10:\n",
    "            n += 1\n",
    "            time.sleep(2)\n",
    "        else:\n",
    "            return n"
   ],
   "metadata": {
    "collapsed": false,
    "ExecuteTime": {
     "end_time": "2025-02-27T08:11:15.695876700Z",
     "start_time": "2025-02-27T08:11:15.692370200Z"
    }
   },
   "id": "c1cfe79d18ae3000"
  },
  {
   "cell_type": "code",
   "execution_count": 12,
   "outputs": [
    {
     "data": {
      "text/plain": "10"
     },
     "execution_count": 12,
     "metadata": {},
     "output_type": "execute_result"
    }
   ],
   "source": [
    "test_while(5)"
   ],
   "metadata": {
    "collapsed": false,
    "ExecuteTime": {
     "end_time": "2025-02-27T08:11:28.307794900Z",
     "start_time": "2025-02-27T08:11:18.299710400Z"
    }
   },
   "id": "3405f44fde26ed79"
  },
  {
   "cell_type": "code",
   "execution_count": 13,
   "outputs": [],
   "source": [
    "def test_tuple(n):\n",
    "    try:\n",
    "        if n > 1:\n",
    "            return 1, True, \"ok\"\n",
    "        raise Exception(\"不满足\")\n",
    "    except Exception as e:\n",
    "        return 0, False, str(e)"
   ],
   "metadata": {
    "collapsed": false,
    "ExecuteTime": {
     "end_time": "2025-02-27T08:14:38.511960Z",
     "start_time": "2025-02-27T08:14:38.506913500Z"
    }
   },
   "id": "9ba9582815a1ff6d"
  },
  {
   "cell_type": "code",
   "execution_count": 15,
   "outputs": [],
   "source": [
    "a, b, c = test_tuple(1)"
   ],
   "metadata": {
    "collapsed": false,
    "ExecuteTime": {
     "end_time": "2025-02-27T08:15:05.569961Z",
     "start_time": "2025-02-27T08:15:05.564442500Z"
    }
   },
   "id": "a35c9e8739a1c7b1"
  },
  {
   "cell_type": "code",
   "execution_count": 16,
   "outputs": [
    {
     "data": {
      "text/plain": "0"
     },
     "execution_count": 16,
     "metadata": {},
     "output_type": "execute_result"
    }
   ],
   "source": [
    "a"
   ],
   "metadata": {
    "collapsed": false,
    "ExecuteTime": {
     "end_time": "2025-02-27T08:15:07.413010700Z",
     "start_time": "2025-02-27T08:15:07.399932100Z"
    }
   },
   "id": "8fcd5e784025b1e"
  },
  {
   "cell_type": "code",
   "execution_count": 17,
   "outputs": [
    {
     "data": {
      "text/plain": "False"
     },
     "execution_count": 17,
     "metadata": {},
     "output_type": "execute_result"
    }
   ],
   "source": [
    "b"
   ],
   "metadata": {
    "collapsed": false,
    "ExecuteTime": {
     "end_time": "2025-02-27T08:15:08.906233400Z",
     "start_time": "2025-02-27T08:15:08.893845400Z"
    }
   },
   "id": "af805a85e4baf400"
  },
  {
   "cell_type": "code",
   "execution_count": 21,
   "outputs": [],
   "source": [
    "class Person:\n",
    "    def __init__(self):\n",
    "        a = 1\n",
    "        b = 2\n",
    "        "
   ],
   "metadata": {
    "collapsed": false,
    "ExecuteTime": {
     "end_time": "2025-02-27T09:09:44.158498100Z",
     "start_time": "2025-02-27T09:09:44.153903900Z"
    }
   },
   "id": "6d75a9e5008ac1aa"
  },
  {
   "cell_type": "code",
   "execution_count": 22,
   "outputs": [
    {
     "name": "stdout",
     "output_type": "stream",
     "text": [
      "11\n"
     ]
    }
   ],
   "source": [
    "b = Person()\n",
    "if b:\n",
    "    print(11)\n",
    "else:\n",
    "    print(22)"
   ],
   "metadata": {
    "collapsed": false,
    "ExecuteTime": {
     "end_time": "2025-02-27T09:09:45.532271200Z",
     "start_time": "2025-02-27T09:09:45.526958400Z"
    }
   },
   "id": "93b13d4d57cf6348"
  },
  {
   "cell_type": "code",
   "execution_count": 23,
   "outputs": [],
   "source": [
    "d1 = {1: \"1\", 2: \"2\"}"
   ],
   "metadata": {
    "collapsed": false,
    "ExecuteTime": {
     "end_time": "2025-02-27T11:56:16.155201200Z",
     "start_time": "2025-02-27T11:56:16.152004400Z"
    }
   },
   "id": "3054e3e11c2c342b"
  },
  {
   "cell_type": "code",
   "execution_count": 24,
   "outputs": [
    {
     "data": {
      "text/plain": "[1, 2]"
     },
     "execution_count": 24,
     "metadata": {},
     "output_type": "execute_result"
    }
   ],
   "source": [
    "list(d1)"
   ],
   "metadata": {
    "collapsed": false,
    "ExecuteTime": {
     "end_time": "2025-02-27T11:56:22.113003600Z",
     "start_time": "2025-02-27T11:56:22.103657900Z"
    }
   },
   "id": "5b0625d729c5054d"
  }
 ],
 "metadata": {
  "kernelspec": {
   "display_name": "Python 3",
   "language": "python",
   "name": "python3"
  },
  "language_info": {
   "codemirror_mode": {
    "name": "ipython",
    "version": 2
   },
   "file_extension": ".py",
   "mimetype": "text/x-python",
   "name": "python",
   "nbconvert_exporter": "python",
   "pygments_lexer": "ipython2",
   "version": "2.7.6"
  }
 },
 "nbformat": 4,
 "nbformat_minor": 5
}
