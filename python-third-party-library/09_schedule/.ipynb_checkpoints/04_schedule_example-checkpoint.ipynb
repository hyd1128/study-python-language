{
 "cells": [
  {
   "cell_type": "code",
   "execution_count": 2,
   "id": "initial_id",
   "metadata": {
    "collapsed": true,
    "ExecuteTime": {
     "end_time": "2025-03-02T19:00:06.688440200Z",
     "start_time": "2025-03-02T19:00:06.674483700Z"
    }
   },
   "outputs": [
    {
     "name": "stdout",
     "output_type": "stream",
     "text": [
      "hello world\n"
     ]
    }
   ],
   "source": [
    "print(\"hello world\")"
   ]
  },
  {
   "cell_type": "code",
   "execution_count": 4,
   "outputs": [
    {
     "ename": "ModuleNotFoundError",
     "evalue": "No module named 'schedule'",
     "output_type": "error",
     "traceback": [
      "\u001B[1;31m---------------------------------------------------------------------------\u001B[0m",
      "\u001B[1;31mModuleNotFoundError\u001B[0m                       Traceback (most recent call last)",
      "Cell \u001B[1;32mIn[4], line 2\u001B[0m\n\u001B[0;32m      1\u001B[0m \u001B[38;5;66;03m# 使用装饰员安排工作\u001B[39;00m\n\u001B[1;32m----> 2\u001B[0m \u001B[38;5;28;01mfrom\u001B[39;00m \u001B[38;5;21;01mschedule\u001B[39;00m \u001B[38;5;28;01mimport\u001B[39;00m every, repeat, run_pending\n\u001B[0;32m      3\u001B[0m \u001B[38;5;28;01mimport\u001B[39;00m \u001B[38;5;21;01mtime\u001B[39;00m\n\u001B[0;32m      5\u001B[0m \u001B[38;5;129m@repeat\u001B[39m(every(\u001B[38;5;241m10\u001B[39m)\u001B[38;5;241m.\u001B[39mminutes)\n\u001B[0;32m      6\u001B[0m \u001B[38;5;28;01mdef\u001B[39;00m \u001B[38;5;21mjob\u001B[39m():\n",
      "\u001B[1;31mModuleNotFoundError\u001B[0m: No module named 'schedule'"
     ]
    }
   ],
   "source": [
    "# 使用装饰员安排工作\n",
    "from schedule import every, repeat, run_pending\n",
    "import time\n",
    "\n",
    "@repeat(every(10).minutes)\n",
    "def job():\n",
    "    print(\"I am a scheduled job\")\n",
    "\n",
    "while True:\n",
    "    run_pending()\n",
    "    time.sleep(1)"
   ],
   "metadata": {
    "collapsed": false,
    "ExecuteTime": {
     "end_time": "2025-03-02T19:00:51.935332200Z",
     "start_time": "2025-03-02T19:00:51.920809100Z"
    }
   },
   "id": "285f5e0edb917e16"
  },
  {
   "cell_type": "code",
   "execution_count": 2,
   "outputs": [],
   "source": [],
   "metadata": {
    "collapsed": false,
    "ExecuteTime": {
     "end_time": "2025-03-02T19:00:06.979798300Z",
     "start_time": "2025-03-02T19:00:06.973107500Z"
    }
   },
   "id": "bcb53ca03805057"
  },
  {
   "cell_type": "code",
   "execution_count": 2,
   "outputs": [],
   "source": [],
   "metadata": {
    "collapsed": false,
    "ExecuteTime": {
     "end_time": "2025-03-02T19:00:07.117421900Z",
     "start_time": "2025-03-02T19:00:07.110913200Z"
    }
   },
   "id": "7259db76c021bc9"
  },
  {
   "cell_type": "code",
   "execution_count": 2,
   "outputs": [],
   "source": [],
   "metadata": {
    "collapsed": false,
    "ExecuteTime": {
     "end_time": "2025-03-02T19:00:07.252632400Z",
     "start_time": "2025-03-02T19:00:07.243329600Z"
    }
   },
   "id": "88e95aa55dfc4838"
  },
  {
   "cell_type": "code",
   "execution_count": 2,
   "outputs": [],
   "source": [],
   "metadata": {
    "collapsed": false,
    "ExecuteTime": {
     "end_time": "2025-03-02T19:00:07.532505100Z",
     "start_time": "2025-03-02T19:00:07.525372200Z"
    }
   },
   "id": "b03f366baca57142"
  },
  {
   "cell_type": "code",
   "execution_count": 2,
   "outputs": [],
   "source": [],
   "metadata": {
    "collapsed": false,
    "ExecuteTime": {
     "end_time": "2025-03-02T19:00:07.669920800Z",
     "start_time": "2025-03-02T19:00:07.662223900Z"
    }
   },
   "id": "b16ba2b10b21e857"
  },
  {
   "cell_type": "code",
   "execution_count": null,
   "outputs": [],
   "source": [],
   "metadata": {
    "collapsed": false
   },
   "id": "7fc4944959e3c584"
  }
 ],
 "metadata": {
  "kernelspec": {
   "display_name": "Python 3",
   "language": "python",
   "name": "python3"
  },
  "language_info": {
   "codemirror_mode": {
    "name": "ipython",
    "version": 2
   },
   "file_extension": ".py",
   "mimetype": "text/x-python",
   "name": "python",
   "nbconvert_exporter": "python",
   "pygments_lexer": "ipython2",
   "version": "2.7.6"
  }
 },
 "nbformat": 4,
 "nbformat_minor": 5
}
