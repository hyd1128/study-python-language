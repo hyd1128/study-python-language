{
 "cells": [
  {
   "cell_type": "code",
   "execution_count": 5,
   "id": "bccb00a29aa1a619",
   "metadata": {
    "collapsed": true,
    "ExecuteTime": {
     "end_time": "2024-12-26T13:54:13.937580400Z",
     "start_time": "2024-12-26T13:54:13.917884400Z"
    }
   },
   "outputs": [],
   "source": [
    "from numbers import Number"
   ]
  },
  {
   "cell_type": "code",
   "execution_count": 19,
   "outputs": [],
   "source": [
    "class Animal:\n",
    "    pass\n",
    "\n",
    "class Dog(Animal):\n",
    "    pass"
   ],
   "metadata": {
    "collapsed": false,
    "ExecuteTime": {
     "end_time": "2024-12-26T14:26:09.744652800Z",
     "start_time": "2024-12-26T14:26:09.736653Z"
    }
   },
   "id": "initial_id"
  },
  {
   "cell_type": "code",
   "execution_count": 26,
   "outputs": [
    {
     "name": "stdout",
     "output_type": "stream",
     "text": [
      "############ type ############\n",
      "True\n",
      "True\n",
      "False\n",
      "########### isinstance ###########\n",
      "True\n",
      "True\n",
      "True\n"
     ]
    }
   ],
   "source": [
    "a1 = Animal()\n",
    "d1 = Dog()\n",
    "print(\"############ type ############\")\n",
    "print(type(a1) is Animal)\n",
    "print(type(d1) is Dog)\n",
    "print(type(d1) is Animal)\n",
    "print(\"########### isinstance ###########\")\n",
    "print(isinstance(a1, Animal))\n",
    "print(isinstance(d1, Dog))\n",
    "print(isinstance(d1, Animal))"
   ],
   "metadata": {
    "collapsed": false,
    "ExecuteTime": {
     "end_time": "2024-12-26T14:28:15.553468500Z",
     "start_time": "2024-12-26T14:28:15.538468800Z"
    }
   },
   "id": "619a4555144eff40"
  },
  {
   "cell_type": "code",
   "execution_count": null,
   "outputs": [],
   "source": [],
   "metadata": {
    "collapsed": false
   },
   "id": "a96e170988a67fe9"
  },
  {
   "cell_type": "markdown",
   "source": [
    "type和isinstance的区别:\n",
    "type: 获取对象的确切类型或验证精确类型\n",
    "isinstance: 检查对象是否是某类或其子类的实例"
   ],
   "metadata": {
    "collapsed": false
   },
   "id": "d8222e77a986ca72"
  },
  {
   "cell_type": "markdown",
   "source": [],
   "metadata": {
    "collapsed": false
   },
   "id": "5baa7d135985a25c"
  }
 ],
 "metadata": {
  "kernelspec": {
   "display_name": "Python 3",
   "language": "python",
   "name": "python3"
  },
  "language_info": {
   "codemirror_mode": {
    "name": "ipython",
    "version": 2
   },
   "file_extension": ".py",
   "mimetype": "text/x-python",
   "name": "python",
   "nbconvert_exporter": "python",
   "pygments_lexer": "ipython2",
   "version": "2.7.6"
  }
 },
 "nbformat": 4,
 "nbformat_minor": 5
}
