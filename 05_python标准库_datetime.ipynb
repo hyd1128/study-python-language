{
 "cells": [
  {
   "cell_type": "markdown",
   "source": [
    "# 标准库 datetime"
   ],
   "metadata": {
    "collapsed": false
   },
   "id": "615af89c6502743e"
  },
  {
   "cell_type": "code",
   "execution_count": null,
   "outputs": [],
   "source": [
    "import datetime\n"
   ],
   "metadata": {
    "collapsed": false,
    "is_executing": true
   },
   "id": "5cd30cfa61b6631d"
  },
  {
   "cell_type": "code",
   "execution_count": null,
   "outputs": [],
   "source": [
    "# 常量\n",
    "datetime.MINYEAR, datetime.MAXYEAR"
   ],
   "metadata": {
    "collapsed": false
   },
   "id": "21331d6d56a74b6b"
  },
  {
   "cell_type": "markdown",
   "source": [
    "# pickle模块"
   ],
   "metadata": {
    "collapsed": false
   },
   "id": "e144ef96b6a49cd"
  },
  {
   "cell_type": "markdown",
   "source": [
    "# timedelta模块"
   ],
   "metadata": {
    "collapsed": false
   },
   "id": "5b322d5669e79089"
  },
  {
   "cell_type": "code",
   "execution_count": 23,
   "outputs": [
    {
     "data": {
      "text/plain": "(True, 31536000.0)"
     },
     "execution_count": 23,
     "metadata": {},
     "output_type": "execute_result"
    }
   ],
   "source": [
    "from datetime import timedelta\n",
    "\n",
    "year = timedelta(days=365)\n",
    "another_year = timedelta(weeks=40, days=84, hours=23, minutes=50, seconds=600)\n",
    "year == another_year, year.total_seconds()"
   ],
   "metadata": {
    "collapsed": false,
    "ExecuteTime": {
     "end_time": "2024-12-17T07:34:25.281378100Z",
     "start_time": "2024-12-17T07:34:25.266253300Z"
    }
   },
   "id": "4cf055bb07c63dba"
  },
  {
   "cell_type": "code",
   "execution_count": 24,
   "outputs": [
    {
     "name": "stdout",
     "output_type": "stream",
     "text": [
      "3650 days, 0:00:00\n",
      "10\n",
      "3285 days, 0:00:00\n",
      "1095 days, 0:00:00 3\n"
     ]
    }
   ],
   "source": [
    "from datetime import timedelta\n",
    "\n",
    "year = timedelta(days=365)\n",
    "ten_years = 10 * year\n",
    "print(ten_years)\n",
    "\n",
    "datetime.timedelta(days=3650)\n",
    "print(ten_years.days // 365)\n",
    "\n",
    "nine_years = ten_years - year\n",
    "print(nine_years)\n",
    "\n",
    "datetime.timedelta(days=3285)\n",
    "three_years = nine_years // 3\n",
    "print(three_years, three_years.days // 365)\n"
   ],
   "metadata": {
    "collapsed": false,
    "ExecuteTime": {
     "end_time": "2024-12-17T07:34:33.023434700Z",
     "start_time": "2024-12-17T07:34:33.007738600Z"
    }
   },
   "id": "28024b8cd13170f6"
  },
  {
   "cell_type": "markdown",
   "source": [
    "# date"
   ],
   "metadata": {
    "collapsed": false
   },
   "id": "ceef0e83dd7e420"
  },
  {
   "cell_type": "code",
   "execution_count": 29,
   "outputs": [],
   "source": [
    "from datetime import date"
   ],
   "metadata": {
    "collapsed": false,
    "ExecuteTime": {
     "end_time": "2024-12-17T07:36:28.304258600Z",
     "start_time": "2024-12-17T07:36:28.296454700Z"
    }
   },
   "id": "edec6d8a51cb1515"
  },
  {
   "cell_type": "code",
   "execution_count": 30,
   "outputs": [
    {
     "data": {
      "text/plain": "datetime.date(2024, 12, 17)"
     },
     "execution_count": 30,
     "metadata": {},
     "output_type": "execute_result"
    }
   ],
   "source": [
    "# 获取今日日期\n",
    "date.today()"
   ],
   "metadata": {
    "collapsed": false,
    "ExecuteTime": {
     "end_time": "2024-12-17T07:36:35.597585800Z",
     "start_time": "2024-12-17T07:36:35.588487Z"
    }
   },
   "id": "bd66ed2fdaa83032"
  },
  {
   "cell_type": "code",
   "execution_count": 31,
   "outputs": [
    {
     "data": {
      "text/plain": "(datetime.date(1, 1, 1),\n datetime.date(9999, 12, 31),\n datetime.timedelta(days=1))"
     },
     "execution_count": 31,
     "metadata": {},
     "output_type": "execute_result"
    }
   ],
   "source": [
    "# date类属性\n",
    "date.min, date.max, date.resolution"
   ],
   "metadata": {
    "collapsed": false,
    "ExecuteTime": {
     "end_time": "2024-12-17T07:37:25.296498200Z",
     "start_time": "2024-12-17T07:37:25.275034800Z"
    }
   },
   "id": "75e1d0898d95f1f5"
  },
  {
   "cell_type": "code",
   "execution_count": 33,
   "outputs": [
    {
     "data": {
      "text/plain": "(2024, 12, 17)"
     },
     "execution_count": 33,
     "metadata": {},
     "output_type": "execute_result"
    }
   ],
   "source": [
    "# 实例属性\n",
    "date_ = date(2024, 12, 17)\n",
    "date_.year, date_.month, date_.day"
   ],
   "metadata": {
    "collapsed": false,
    "ExecuteTime": {
     "end_time": "2024-12-17T07:38:35.617063900Z",
     "start_time": "2024-12-17T07:38:35.597517Z"
    }
   },
   "id": "f34146f56a76c251"
  },
  {
   "cell_type": "code",
   "execution_count": 35,
   "outputs": [
    {
     "data": {
      "text/plain": "'2025-01-06'"
     },
     "execution_count": 35,
     "metadata": {},
     "output_type": "execute_result"
    }
   ],
   "source": [
    "# 支持运算\n",
    "date1 = date(2024, 12, 17)\n",
    "date2 = date1 + timedelta(days=20)\n",
    "date2.strftime(\"%Y-%m-%d\")"
   ],
   "metadata": {
    "collapsed": false,
    "ExecuteTime": {
     "end_time": "2024-12-17T07:40:01.113693200Z",
     "start_time": "2024-12-17T07:40:01.095422900Z"
    }
   },
   "id": "b4625db697196e8f"
  },
  {
   "cell_type": "code",
   "execution_count": 38,
   "outputs": [
    {
     "data": {
      "text/plain": "True"
     },
     "execution_count": 38,
     "metadata": {},
     "output_type": "execute_result"
    }
   ],
   "source": [
    "# date的计算\n",
    "date_two = date(2024, 12, 15)\n",
    "date_three = date(2024, 12, 17)\n",
    "# date_two > date_three\n",
    "date_two + timedelta(days=2) == date_three"
   ],
   "metadata": {
    "collapsed": false,
    "ExecuteTime": {
     "end_time": "2024-12-17T07:58:21.553247Z",
     "start_time": "2024-12-17T07:58:21.535997Z"
    }
   },
   "id": "61976d4255f325d4"
  },
  {
   "cell_type": "markdown",
   "source": [
    "# datetime"
   ],
   "metadata": {
    "collapsed": false
   },
   "id": "c19bc9d8fa491fbb"
  },
  {
   "cell_type": "code",
   "execution_count": 39,
   "outputs": [],
   "source": [
    "from datetime import datetime"
   ],
   "metadata": {
    "collapsed": false,
    "ExecuteTime": {
     "end_time": "2024-12-17T07:59:46.505015500Z",
     "start_time": "2024-12-17T07:59:46.488114400Z"
    }
   },
   "id": "1fcc3b00f8c12621"
  },
  {
   "cell_type": "code",
   "execution_count": 40,
   "outputs": [
    {
     "data": {
      "text/plain": "datetime.datetime(2024, 12, 17, 15, 59, 51, 603293)"
     },
     "execution_count": 40,
     "metadata": {},
     "output_type": "execute_result"
    }
   ],
   "source": [
    "datetime.now()"
   ],
   "metadata": {
    "collapsed": false,
    "ExecuteTime": {
     "end_time": "2024-12-17T07:59:51.621276Z",
     "start_time": "2024-12-17T07:59:51.604298Z"
    }
   },
   "id": "b95663be95d81c62"
  },
  {
   "cell_type": "code",
   "execution_count": 41,
   "outputs": [
    {
     "data": {
      "text/plain": "1"
     },
     "execution_count": 41,
     "metadata": {},
     "output_type": "execute_result"
    }
   ],
   "source": [
    "datetime.now().weekday()"
   ],
   "metadata": {
    "collapsed": false,
    "ExecuteTime": {
     "end_time": "2024-12-17T08:00:09.766180400Z",
     "start_time": "2024-12-17T08:00:09.747800700Z"
    }
   },
   "id": "98de6d49592591cf"
  },
  {
   "cell_type": "code",
   "execution_count": 1,
   "outputs": [
    {
     "ename": "NameError",
     "evalue": "name 'datetime' is not defined",
     "output_type": "error",
     "traceback": [
      "\u001B[1;31m---------------------------------------------------------------------------\u001B[0m",
      "\u001B[1;31mNameError\u001B[0m                                 Traceback (most recent call last)",
      "Cell \u001B[1;32mIn[1], line 1\u001B[0m\n\u001B[1;32m----> 1\u001B[0m \u001B[43mdatetime\u001B[49m\u001B[38;5;241m.\u001B[39mnow()\u001B[38;5;241m.\u001B[39misoweekday()\n",
      "\u001B[1;31mNameError\u001B[0m: name 'datetime' is not defined"
     ]
    }
   ],
   "source": [
    "datetime.now().isoweekday()"
   ],
   "metadata": {
    "collapsed": false,
    "ExecuteTime": {
     "end_time": "2024-12-20T01:08:28.564549100Z",
     "start_time": "2024-12-20T01:08:28.242414900Z"
    }
   },
   "id": "2b058aedad252aee"
  },
  {
   "cell_type": "markdown",
   "source": [],
   "metadata": {
    "collapsed": false
   },
   "id": "ce65158e5c77963e"
  },
  {
   "cell_type": "markdown",
   "source": [
    "# time模块"
   ],
   "metadata": {
    "collapsed": false
   },
   "id": "e14e3ed296cc75b5"
  },
  {
   "cell_type": "code",
   "execution_count": 33,
   "outputs": [],
   "source": [
    "from datetime import time\n",
    "import random"
   ],
   "metadata": {
    "collapsed": false,
    "ExecuteTime": {
     "end_time": "2024-12-20T01:26:48.607052400Z",
     "start_time": "2024-12-20T01:26:48.598583300Z"
    }
   },
   "id": "c4e4173cf3b59c6f"
  },
  {
   "cell_type": "code",
   "execution_count": 11,
   "outputs": [],
   "source": [
    "# 获取一个iso格式的时间字符串 格式化成 datetime.time类\n",
    "iso_time = \"08:57:59\"\n",
    "duration_time = time.fromisoformat(iso_time)\n"
   ],
   "metadata": {
    "collapsed": false,
    "ExecuteTime": {
     "end_time": "2024-12-20T01:14:59.482525400Z",
     "start_time": "2024-12-20T01:14:59.471412Z"
    }
   },
   "id": "b6f5bf1d29743fb9"
  },
  {
   "cell_type": "code",
   "execution_count": 12,
   "outputs": [
    {
     "data": {
      "text/plain": "datetime.time(8, 57, 59)"
     },
     "execution_count": 12,
     "metadata": {},
     "output_type": "execute_result"
    }
   ],
   "source": [
    "duration_time"
   ],
   "metadata": {
    "collapsed": false,
    "ExecuteTime": {
     "end_time": "2024-12-20T01:15:00.318734600Z",
     "start_time": "2024-12-20T01:15:00.309946300Z"
    }
   },
   "id": "fad1da8f315b35c1"
  },
  {
   "cell_type": "code",
   "execution_count": 13,
   "outputs": [
    {
     "data": {
      "text/plain": "'08:57:59'"
     },
     "execution_count": 13,
     "metadata": {},
     "output_type": "execute_result"
    }
   ],
   "source": [
    "time.isoformat(duration_time, timespec='seconds')"
   ],
   "metadata": {
    "collapsed": false,
    "ExecuteTime": {
     "end_time": "2024-12-20T01:15:00.655744200Z",
     "start_time": "2024-12-20T01:15:00.647842300Z"
    }
   },
   "id": "4923a4d0b7525577"
  },
  {
   "cell_type": "code",
   "execution_count": 14,
   "outputs": [
    {
     "data": {
      "text/plain": "8"
     },
     "execution_count": 14,
     "metadata": {},
     "output_type": "execute_result"
    }
   ],
   "source": [
    "duration_time.hour"
   ],
   "metadata": {
    "collapsed": false,
    "ExecuteTime": {
     "end_time": "2024-12-20T01:15:00.940364900Z",
     "start_time": "2024-12-20T01:15:00.932465300Z"
    }
   },
   "id": "b846d594c53d791c"
  },
  {
   "cell_type": "code",
   "execution_count": 15,
   "outputs": [
    {
     "data": {
      "text/plain": "57"
     },
     "execution_count": 15,
     "metadata": {},
     "output_type": "execute_result"
    }
   ],
   "source": [
    "duration_time.minute"
   ],
   "metadata": {
    "collapsed": false,
    "ExecuteTime": {
     "end_time": "2024-12-20T01:15:01.380411600Z",
     "start_time": "2024-12-20T01:15:01.374090Z"
    }
   },
   "id": "98eb625f75f59524"
  },
  {
   "cell_type": "code",
   "execution_count": 16,
   "outputs": [
    {
     "data": {
      "text/plain": "59"
     },
     "execution_count": 16,
     "metadata": {},
     "output_type": "execute_result"
    }
   ],
   "source": [
    "duration_time.second"
   ],
   "metadata": {
    "collapsed": false,
    "ExecuteTime": {
     "end_time": "2024-12-20T01:15:01.752720500Z",
     "start_time": "2024-12-20T01:15:01.738958300Z"
    }
   },
   "id": "bd857f48bb67dfe0"
  },
  {
   "cell_type": "code",
   "execution_count": 18,
   "outputs": [],
   "source": [
    "time_one = time(hour=8, minute=57, second=55)\n",
    "time_two = time(hour=13, minute=57, second=55)"
   ],
   "metadata": {
    "collapsed": false,
    "ExecuteTime": {
     "end_time": "2024-12-20T01:17:12.471352200Z",
     "start_time": "2024-12-20T01:17:12.463831200Z"
    }
   },
   "id": "2e824b9dd4aadf94"
  },
  {
   "cell_type": "code",
   "execution_count": 20,
   "outputs": [
    {
     "name": "stdout",
     "output_type": "stream",
     "text": [
      "08:57:55\n"
     ]
    }
   ],
   "source": [
    "print(time_one)"
   ],
   "metadata": {
    "collapsed": false,
    "ExecuteTime": {
     "end_time": "2024-12-20T01:17:21.353613200Z",
     "start_time": "2024-12-20T01:17:21.344582700Z"
    }
   },
   "id": "d63f86d8882e06b6"
  },
  {
   "cell_type": "code",
   "execution_count": 21,
   "outputs": [
    {
     "name": "stdout",
     "output_type": "stream",
     "text": [
      "13:57:55\n"
     ]
    }
   ],
   "source": [
    "print(time_two)"
   ],
   "metadata": {
    "collapsed": false,
    "ExecuteTime": {
     "end_time": "2024-12-20T01:17:40.594892500Z",
     "start_time": "2024-12-20T01:17:40.586539600Z"
    }
   },
   "id": "c4151f2d23975e03"
  },
  {
   "cell_type": "code",
   "execution_count": 22,
   "outputs": [
    {
     "ename": "TypeError",
     "evalue": "unsupported operand type(s) for -: 'datetime.time' and 'datetime.time'",
     "output_type": "error",
     "traceback": [
      "\u001B[1;31m---------------------------------------------------------------------------\u001B[0m",
      "\u001B[1;31mTypeError\u001B[0m                                 Traceback (most recent call last)",
      "Cell \u001B[1;32mIn[22], line 1\u001B[0m\n\u001B[1;32m----> 1\u001B[0m \u001B[38;5;28mprint\u001B[39m(\u001B[38;5;28mtype\u001B[39m(\u001B[43mtime_two\u001B[49m\u001B[38;5;241;43m-\u001B[39;49m\u001B[43mtime_one\u001B[49m))\n",
      "\u001B[1;31mTypeError\u001B[0m: unsupported operand type(s) for -: 'datetime.time' and 'datetime.time'"
     ]
    }
   ],
   "source": [
    "print(type(time_two - time_one))"
   ],
   "metadata": {
    "collapsed": false,
    "ExecuteTime": {
     "end_time": "2024-12-20T01:17:55.691073900Z",
     "start_time": "2024-12-20T01:17:55.672047400Z"
    }
   },
   "id": "6f4b662e58d5b844"
  },
  {
   "cell_type": "code",
   "execution_count": 23,
   "outputs": [],
   "source": [
    "is_true = time_two > time_one"
   ],
   "metadata": {
    "collapsed": false,
    "ExecuteTime": {
     "end_time": "2024-12-20T01:18:18.540486500Z",
     "start_time": "2024-12-20T01:18:18.529561100Z"
    }
   },
   "id": "cca678e5011266e3"
  },
  {
   "cell_type": "code",
   "execution_count": 25,
   "outputs": [
    {
     "data": {
      "text/plain": "True"
     },
     "execution_count": 25,
     "metadata": {},
     "output_type": "execute_result"
    }
   ],
   "source": [
    "is_true"
   ],
   "metadata": {
    "collapsed": false,
    "ExecuteTime": {
     "end_time": "2024-12-20T01:18:28.781462Z",
     "start_time": "2024-12-20T01:18:28.774001400Z"
    }
   },
   "id": "9c680ae84871b508"
  },
  {
   "cell_type": "code",
   "execution_count": 26,
   "outputs": [
    {
     "name": "stdout",
     "output_type": "stream",
     "text": [
      "23:59:59.999999\n"
     ]
    }
   ],
   "source": [
    "print(time.max)"
   ],
   "metadata": {
    "collapsed": false,
    "ExecuteTime": {
     "end_time": "2024-12-20T01:21:41.025767900Z",
     "start_time": "2024-12-20T01:21:41.008135900Z"
    }
   },
   "id": "d7955a3aabb2c1f7"
  },
  {
   "cell_type": "code",
   "execution_count": 27,
   "outputs": [
    {
     "name": "stdout",
     "output_type": "stream",
     "text": [
      "00:00:00\n"
     ]
    }
   ],
   "source": [
    "print(time.min)"
   ],
   "metadata": {
    "collapsed": false,
    "ExecuteTime": {
     "end_time": "2024-12-20T01:21:48.048899Z",
     "start_time": "2024-12-20T01:21:48.036321700Z"
    }
   },
   "id": "4779b1ae824802cf"
  },
  {
   "cell_type": "code",
   "execution_count": 28,
   "outputs": [
    {
     "name": "stdout",
     "output_type": "stream",
     "text": [
      "23\n"
     ]
    }
   ],
   "source": [
    "print(time.max.hour)"
   ],
   "metadata": {
    "collapsed": false,
    "ExecuteTime": {
     "end_time": "2024-12-20T01:22:04.037958400Z",
     "start_time": "2024-12-20T01:22:04.028169400Z"
    }
   },
   "id": "7c665cb0c7fd7cf2"
  },
  {
   "cell_type": "code",
   "execution_count": 29,
   "outputs": [
    {
     "name": "stdout",
     "output_type": "stream",
     "text": [
      "59\n"
     ]
    }
   ],
   "source": [
    "print(time.max.minute)"
   ],
   "metadata": {
    "collapsed": false,
    "ExecuteTime": {
     "end_time": "2024-12-20T01:22:12.902615300Z",
     "start_time": "2024-12-20T01:22:12.892902700Z"
    }
   },
   "id": "9d44fe3faab5122e"
  },
  {
   "cell_type": "code",
   "execution_count": 30,
   "outputs": [
    {
     "name": "stdout",
     "output_type": "stream",
     "text": [
      "59\n"
     ]
    }
   ],
   "source": [
    "print(time.max.second)"
   ],
   "metadata": {
    "collapsed": false,
    "ExecuteTime": {
     "end_time": "2024-12-20T01:22:26.654418500Z",
     "start_time": "2024-12-20T01:22:26.635650800Z"
    }
   },
   "id": "28d1a7ad8b57548a"
  },
  {
   "cell_type": "code",
   "execution_count": 78,
   "outputs": [
    {
     "data": {
      "text/plain": "'12:38:38'"
     },
     "execution_count": 78,
     "metadata": {},
     "output_type": "execute_result"
    }
   ],
   "source": [
    "iso_time = \"08:00:00\"\n",
    "duration_time = time.fromisoformat(iso_time)\n",
    "remain_hour = time.max.hour - duration_time.hour\n",
    "remain_minute = time.max.minute - duration_time.minute\n",
    "remain_second = time.max.minute - duration_time.second\n",
    "\n",
    "start_hour = random.randint(0, remain_hour)\n",
    "start_minute = random.randint(0, remain_minute)\n",
    "start_second = random.randint(0, remain_second)\n",
    "\n",
    "start_run_task_time = time(hour=start_hour, minute=start_minute, second=start_second)\n",
    "start_run_task_time.isoformat(timespec=\"seconds\")"
   ],
   "metadata": {
    "collapsed": false,
    "ExecuteTime": {
     "end_time": "2024-12-20T01:30:06.385298300Z",
     "start_time": "2024-12-20T01:30:06.376283700Z"
    }
   },
   "id": "ee105fec8b3a7d13"
  },
  {
   "cell_type": "code",
   "execution_count": 42,
   "outputs": [
    {
     "data": {
      "text/plain": "1"
     },
     "execution_count": 42,
     "metadata": {},
     "output_type": "execute_result"
    }
   ],
   "source": [
    "random.randint(0, 1)"
   ],
   "metadata": {
    "collapsed": false,
    "ExecuteTime": {
     "end_time": "2024-12-20T01:27:14.342868500Z",
     "start_time": "2024-12-20T01:27:14.329138400Z"
    }
   },
   "id": "32568951d85fd336"
  },
  {
   "cell_type": "code",
   "execution_count": 87,
   "outputs": [
    {
     "data": {
      "text/plain": "'20:39:38'"
     },
     "execution_count": 87,
     "metadata": {},
     "output_type": "execute_result"
    }
   ],
   "source": [
    "iso_duration_time = \"08:00:00\"\n",
    "iso_start_time = \"12:39:38\"\n",
    "start_execution_time = time.fromisoformat(iso_start_time)\n",
    "duration_execution_time = time.fromisoformat(iso_duration_time)\n",
    "end_execution_time = time(\n",
    "    hour=start_execution_time.hour + duration_execution_time.hour,\n",
    "    minute=start_execution_time.minute + duration_execution_time.minute,\n",
    "    second=start_execution_time.second + duration_execution_time.second\n",
    ")\n",
    "\n",
    "end_execution_time.isoformat(timespec=\"seconds\")"
   ],
   "metadata": {
    "collapsed": false,
    "ExecuteTime": {
     "end_time": "2024-12-20T01:42:00.906589600Z",
     "start_time": "2024-12-20T01:42:00.899591700Z"
    }
   },
   "id": "fb27499b2f5af0f5"
  },
  {
   "cell_type": "code",
   "execution_count": 88,
   "outputs": [
    {
     "data": {
      "text/plain": "1734659573.8560112"
     },
     "execution_count": 88,
     "metadata": {},
     "output_type": "execute_result"
    }
   ],
   "source": [],
   "metadata": {
    "collapsed": false,
    "ExecuteTime": {
     "end_time": "2024-12-20T01:52:53.877052600Z",
     "start_time": "2024-12-20T01:52:53.856011200Z"
    }
   },
   "id": "e9f62107c1e2fd25"
  },
  {
   "cell_type": "code",
   "execution_count": 95,
   "outputs": [],
   "source": [
    "from datetime import datetime, time"
   ],
   "metadata": {
    "collapsed": false,
    "ExecuteTime": {
     "end_time": "2024-12-20T01:57:33.948812700Z",
     "start_time": "2024-12-20T01:57:33.921839900Z"
    }
   },
   "id": "4179a8cdc711cbfb"
  },
  {
   "cell_type": "code",
   "execution_count": 96,
   "outputs": [
    {
     "data": {
      "text/plain": "datetime.datetime(2024, 12, 20, 9, 57, 34, 602025)"
     },
     "execution_count": 96,
     "metadata": {},
     "output_type": "execute_result"
    }
   ],
   "source": [
    "datetime.now()"
   ],
   "metadata": {
    "collapsed": false,
    "ExecuteTime": {
     "end_time": "2024-12-20T01:57:34.611509500Z",
     "start_time": "2024-12-20T01:57:34.601012Z"
    }
   },
   "id": "8a297d53c3285c54"
  },
  {
   "cell_type": "code",
   "execution_count": 99,
   "outputs": [
    {
     "name": "stdout",
     "output_type": "stream",
     "text": [
      "<class 'datetime.time'>\n"
     ]
    }
   ],
   "source": [
    "print(type(datetime.now().time()))"
   ],
   "metadata": {
    "collapsed": false,
    "ExecuteTime": {
     "end_time": "2024-12-20T01:59:43.678980400Z",
     "start_time": "2024-12-20T01:59:43.668862Z"
    }
   },
   "id": "97271f0300605883"
  },
  {
   "cell_type": "code",
   "execution_count": 108,
   "outputs": [
    {
     "name": "stdout",
     "output_type": "stream",
     "text": [
      "False\n"
     ]
    }
   ],
   "source": [
    "start_execution_time = \"10:00:00\"\n",
    "end_execution_time = \"12:00:00\"\n",
    "now_time = datetime.now().time()\n",
    "if (time.fromisoformat(start_execution_time) < now_time) and (now_time < time.fromisoformat(end_execution_time)):\n",
    "    print(True)\n",
    "else:\n",
    "    print(False)"
   ],
   "metadata": {
    "collapsed": false,
    "ExecuteTime": {
     "end_time": "2024-12-20T01:59:57.323698300Z",
     "start_time": "2024-12-20T01:59:57.307604500Z"
    }
   },
   "id": "32f778b2c22d1690"
  },
  {
   "cell_type": "code",
   "execution_count": 113,
   "outputs": [
    {
     "name": "stdout",
     "output_type": "stream",
     "text": [
      "<class 'float'>\n"
     ]
    }
   ],
   "source": [
    "from datetime import timedelta\n",
    "\n",
    "iso_duration_time = \"08:00:00\"\n",
    "duration_time = time.fromisoformat(iso_duration_time)\n",
    "duration_time_total_seconds = timedelta(hours=duration_time.hour, minutes=duration_time.minute,\n",
    "                                        seconds=duration_time.second).total_seconds()\n",
    "print(type(duration_time_total_seconds))"
   ],
   "metadata": {
    "collapsed": false,
    "ExecuteTime": {
     "end_time": "2024-12-20T02:14:21.217542Z",
     "start_time": "2024-12-20T02:14:21.205180400Z"
    }
   },
   "id": "534b9386957b7faf"
  },
  {
   "cell_type": "code",
   "execution_count": 112,
   "outputs": [
    {
     "name": "stdout",
     "output_type": "stream",
     "text": [
      "28800\n"
     ]
    }
   ],
   "source": [
    "print(60 * 60 * 8)"
   ],
   "metadata": {
    "collapsed": false,
    "ExecuteTime": {
     "end_time": "2024-12-20T02:14:05.994462900Z",
     "start_time": "2024-12-20T02:14:05.965595600Z"
    }
   },
   "id": "fe07b3d133c8375c"
  },
  {
   "cell_type": "code",
   "execution_count": 114,
   "outputs": [
    {
     "data": {
      "text/plain": "1.0"
     },
     "execution_count": 114,
     "metadata": {},
     "output_type": "execute_result"
    }
   ],
   "source": [
    "2.0 / 2"
   ],
   "metadata": {
    "collapsed": false,
    "ExecuteTime": {
     "end_time": "2024-12-20T02:15:09.176879200Z",
     "start_time": "2024-12-20T02:15:09.155116500Z"
    }
   },
   "id": "130732de5522e1be"
  },
  {
   "cell_type": "code",
   "execution_count": 115,
   "outputs": [
    {
     "data": {
      "text/plain": "2.0"
     },
     "execution_count": 115,
     "metadata": {},
     "output_type": "execute_result"
    }
   ],
   "source": [
    "2 / 1.0"
   ],
   "metadata": {
    "collapsed": false,
    "ExecuteTime": {
     "end_time": "2024-12-20T02:15:14.685357700Z",
     "start_time": "2024-12-20T02:15:14.664179300Z"
    }
   },
   "id": "b93331d3468ca6be"
  },
  {
   "cell_type": "code",
   "execution_count": 116,
   "outputs": [
    {
     "data": {
      "text/plain": "1.0"
     },
     "execution_count": 116,
     "metadata": {},
     "output_type": "execute_result"
    }
   ],
   "source": [
    "2 / 2"
   ],
   "metadata": {
    "collapsed": false,
    "ExecuteTime": {
     "end_time": "2024-12-20T02:15:20.108037800Z",
     "start_time": "2024-12-20T02:15:20.085025500Z"
    }
   },
   "id": "dbf8962b8df71c7e"
  },
  {
   "cell_type": "code",
   "execution_count": 117,
   "outputs": [
    {
     "name": "stdout",
     "output_type": "stream",
     "text": [
      "1.0\n"
     ]
    }
   ],
   "source": [
    "print(int(2) / int(2))"
   ],
   "metadata": {
    "collapsed": false,
    "ExecuteTime": {
     "end_time": "2024-12-20T02:15:28.131007500Z",
     "start_time": "2024-12-20T02:15:28.111099500Z"
    }
   },
   "id": "6ea3a3340bdb0cd0"
  },
  {
   "cell_type": "code",
   "execution_count": 118,
   "outputs": [
    {
     "data": {
      "text/plain": "datetime.datetime(2024, 12, 20, 10, 32, 21, 581586)"
     },
     "execution_count": 118,
     "metadata": {},
     "output_type": "execute_result"
    }
   ],
   "source": [
    "datetime.today()"
   ],
   "metadata": {
    "collapsed": false,
    "ExecuteTime": {
     "end_time": "2024-12-20T02:32:21.599658500Z",
     "start_time": "2024-12-20T02:32:21.582621300Z"
    }
   },
   "id": "e0eb5d8bc6c74628"
  },
  {
   "cell_type": "code",
   "execution_count": 120,
   "outputs": [
    {
     "data": {
      "text/plain": "datetime.date(2024, 12, 20)"
     },
     "execution_count": 120,
     "metadata": {},
     "output_type": "execute_result"
    }
   ],
   "source": [
    "from datetime import date\n",
    "\n",
    "date.today()"
   ],
   "metadata": {
    "collapsed": false,
    "ExecuteTime": {
     "end_time": "2024-12-20T02:32:36.442503400Z",
     "start_time": "2024-12-20T02:32:36.430414800Z"
    }
   },
   "id": "ae3a8b66a5b8ab39"
  },
  {
   "cell_type": "code",
   "execution_count": 123,
   "outputs": [
    {
     "data": {
      "text/plain": "datetime.datetime(2024, 12, 20, 11, 9, 22, 329868)"
     },
     "execution_count": 123,
     "metadata": {},
     "output_type": "execute_result"
    }
   ],
   "source": [
    "time = datetime.now().time()\n",
    "day = datetime.now().date()\n",
    "\n",
    "datetime_ = datetime.combine(date.today(), time)\n",
    "\n",
    "datetime_"
   ],
   "metadata": {
    "collapsed": false,
    "ExecuteTime": {
     "end_time": "2024-12-20T03:09:22.351487600Z",
     "start_time": "2024-12-20T03:09:22.330867700Z"
    }
   },
   "id": "919492241acf9b9a"
  },
  {
   "cell_type": "code",
   "execution_count": 123,
   "outputs": [],
   "source": [],
   "metadata": {
    "collapsed": false,
    "ExecuteTime": {
     "end_time": "2024-12-20T03:09:22.525841300Z",
     "start_time": "2024-12-20T03:09:22.505642100Z"
    }
   },
   "id": "c337b4a966e82efa"
  },
  {
   "cell_type": "code",
   "execution_count": 123,
   "outputs": [],
   "source": [],
   "metadata": {
    "collapsed": false,
    "ExecuteTime": {
     "end_time": "2024-12-20T03:09:22.678625100Z",
     "start_time": "2024-12-20T03:09:22.657428Z"
    }
   },
   "id": "41517ae76c08ea49"
  },
  {
   "cell_type": "code",
   "execution_count": 125,
   "outputs": [
    {
     "ename": "IndentationError",
     "evalue": "expected an indented block (1012604306.py, line 7)",
     "output_type": "error",
     "traceback": [
      "\u001B[1;36m  Cell \u001B[1;32mIn[125], line 7\u001B[1;36m\u001B[0m\n\u001B[1;33m    def demo2():\u001B[0m\n\u001B[1;37m                ^\u001B[0m\n\u001B[1;31mIndentationError\u001B[0m\u001B[1;31m:\u001B[0m expected an indented block\n"
     ]
    }
   ],
   "source": [
    "class Util:\n",
    "    @staticmethod\n",
    "    def demo1():\n",
    "        return 111\n",
    "\n",
    "    @staticmethod\n",
    "    def demo2():\n",
    "        return Util.demo1()"
   ],
   "metadata": {
    "collapsed": false,
    "ExecuteTime": {
     "end_time": "2024-12-20T03:09:53.345384600Z",
     "start_time": "2024-12-20T03:09:53.333360900Z"
    }
   },
   "id": "c771db0253f6c552"
  },
  {
   "cell_type": "code",
   "execution_count": 126,
   "outputs": [
    {
     "ename": "NameError",
     "evalue": "name '__file__' is not defined",
     "output_type": "error",
     "traceback": [
      "\u001B[1;31m---------------------------------------------------------------------------\u001B[0m",
      "\u001B[1;31mNameError\u001B[0m                                 Traceback (most recent call last)",
      "Cell \u001B[1;32mIn[126], line 2\u001B[0m\n\u001B[0;32m      1\u001B[0m \u001B[38;5;28;01mfrom\u001B[39;00m \u001B[38;5;21;01mpathlib\u001B[39;00m \u001B[38;5;28;01mimport\u001B[39;00m Path\n\u001B[1;32m----> 2\u001B[0m Path(\u001B[38;5;18;43m__file__\u001B[39;49m)\n",
      "\u001B[1;31mNameError\u001B[0m: name '__file__' is not defined"
     ]
    }
   ],
   "source": [
    "from pathlib import Path\n",
    "\n",
    "Path(__file__)"
   ],
   "metadata": {
    "collapsed": false,
    "ExecuteTime": {
     "end_time": "2024-12-20T03:35:47.332271500Z",
     "start_time": "2024-12-20T03:35:47.282587600Z"
    }
   },
   "id": "e15f7ace81db2c6a"
  },
  {
   "cell_type": "code",
   "execution_count": 123,
   "outputs": [],
   "source": [],
   "metadata": {
    "collapsed": false,
    "ExecuteTime": {
     "end_time": "2024-12-20T03:09:23.088809500Z",
     "start_time": "2024-12-20T03:09:23.069281100Z"
    }
   },
   "id": "31c37a1e6fd8d29b"
  },
  {
   "cell_type": "code",
   "execution_count": 128,
   "outputs": [
    {
     "name": "stdout",
     "output_type": "stream",
     "text": [
      "False\n"
     ]
    }
   ],
   "source": [
    "a = 0\n",
    "if a:\n",
    "    print(True)\n",
    "else:\n",
    "    print(False)"
   ],
   "metadata": {
    "collapsed": false,
    "ExecuteTime": {
     "end_time": "2024-12-20T03:46:57.862241400Z",
     "start_time": "2024-12-20T03:46:57.850915300Z"
    }
   },
   "id": "d65f45c25ed3f4fa"
  },
  {
   "cell_type": "code",
   "execution_count": 123,
   "outputs": [],
   "source": [],
   "metadata": {
    "collapsed": false,
    "ExecuteTime": {
     "end_time": "2024-12-20T03:09:23.343435300Z",
     "start_time": "2024-12-20T03:09:23.324342700Z"
    }
   },
   "id": "af4c0d5a10f35302"
  },
  {
   "cell_type": "code",
   "execution_count": 134,
   "outputs": [],
   "source": [
    "# import cv2\n",
    "# \n",
    "# \n",
    "# class ImageUtil:\n",
    "#     @staticmethod\n",
    "#     def match(template_path: str, target_path: str) -> list:\n",
    "#         \"\"\"\n",
    "#         输入模板图片和目标图片的路径, 匹配模板图片在目标图片上的最相似坐标\n",
    "#         \n",
    "#         :param template_path: \n",
    "#         :param target_path: \n",
    "#         :return: \n",
    "#         \"\"\"\n",
    "#         try:\n",
    "#             template = cv2.imread(template_path)\n",
    "#             target = cv2.imread(target_path)\n",
    "#             \n",
    "#             # 检测图片是否读取成功\n",
    "#             if template is None or target is None\n",
    "#                 raise Exception(\"read picture error\")\n",
    "#             sift = cv2.SIFT_create()"
   ],
   "metadata": {
    "collapsed": false,
    "ExecuteTime": {
     "end_time": "2024-12-20T05:31:02.622398800Z",
     "start_time": "2024-12-20T05:31:02.607065200Z"
    }
   },
   "id": "12de223f6b55e075"
  },
  {
   "cell_type": "code",
   "execution_count": 143,
   "outputs": [],
   "source": [
    "import cv2\n",
    "import numpy as np\n",
    "\n",
    "\n",
    "def match(target_path, template_path):\n",
    "    \"\"\"\n",
    "    在目标图片中查找模板图片最匹配的位置，并绘制匹配位置图像\n",
    "    \n",
    "    Returns:\n",
    "        tuple: 匹配位置的中心点坐标(x,y)，如果没有找到匹配则返回None\n",
    "    \"\"\"\n",
    "    try:\n",
    "        # 1. 图像读取和预处理\n",
    "        target = cv2.imread(target_path)\n",
    "        template = cv2.imread(template_path)\n",
    "\n",
    "        # 检查图像是否读取成功\n",
    "        if template is None or target is None:\n",
    "            # logger_run.error(\"Failed to load images\")\n",
    "            return None\n",
    "\n",
    "        # 优化点1: 将图像转换为灰度图，提高特征提取的稳定性\n",
    "        target_gray = cv2.cvtColor(target, cv2.COLOR_BGR2GRAY)\n",
    "        template_gray = cv2.cvtColor(template, cv2.COLOR_BGR2GRAY)\n",
    "\n",
    "        # 优化点2: 对图像进行预处理，增强特征\n",
    "        target_gray = cv2.equalizeHist(target_gray)\n",
    "        template_gray = cv2.equalizeHist(template_gray)\n",
    "\n",
    "        # 2. 特征检测和描述\n",
    "        sift = cv2.SIFT_create(\n",
    "            nfeatures=0,\n",
    "            nOctaveLayers=5,\n",
    "            contrastThreshold=0.04,\n",
    "            edgeThreshold=10,\n",
    "            sigma=1.6\n",
    "        )\n",
    "\n",
    "        # 检测特征点并计算描述符\n",
    "        kp1, des1 = sift.detectAndCompute(template_gray, None)\n",
    "        kp2, des2 = sift.detectAndCompute(target_gray, None)\n",
    "\n",
    "        # 特征点数量检查\n",
    "        if len(kp1) < 10 or len(kp2) < 10:\n",
    "            # logger_run.warning(\"Not enough keypoints found\")\n",
    "            return None\n",
    "\n",
    "        # 3. 特征匹配\n",
    "        FLANN_INDEX_KDTREE = 1\n",
    "        index_params = dict(algorithm=FLANN_INDEX_KDTREE, trees=5)\n",
    "        search_params = dict(checks=50)\n",
    "        flann = cv2.FlannBasedMatcher(index_params, search_params)\n",
    "        matches = flann.knnMatch(des1, des2, k=2)\n",
    "\n",
    "        # 4. 匹配点筛选\n",
    "        good = []\n",
    "        RATIO_THRESH = 0.7\n",
    "        for m, n in matches:\n",
    "            if m.distance < RATIO_THRESH * n.distance:\n",
    "                good.append(m)\n",
    "\n",
    "        MIN_MATCH_COUNT = 10\n",
    "        if len(good) >= MIN_MATCH_COUNT:\n",
    "            # 获取匹配点坐标\n",
    "            src_pts = np.float32([kp1[m.queryIdx].pt for m in good])\n",
    "            dst_pts = np.float32([kp2[m.trainIdx].pt for m in good])\n",
    "\n",
    "            # 5. 使用RANSAC方法过滤误匹配\n",
    "            H, mask = cv2.findHomography(src_pts, dst_pts, cv2.RANSAC, 5.0)\n",
    "            if H is None:\n",
    "                return None\n",
    "\n",
    "            # 只保留RANSAC认为是内点的匹配\n",
    "            matchesMask = mask.ravel().tolist()\n",
    "            good_pts = dst_pts[np.array(matchesMask) == 1]\n",
    "\n",
    "            if len(good_pts) < MIN_MATCH_COUNT:\n",
    "                return None\n",
    "\n",
    "            # 6. 计算匹配中心\n",
    "            # 确保 weights 数组与 good_pts 数组一致\n",
    "            weights = np.array([1 / m.distance for m in good])\n",
    "            weights /= np.sum(weights)  # 归一化权重，使其和为1\n",
    "\n",
    "            # 在这里修正了加权平均的方式，避免维度不匹配\n",
    "            center_dst = tuple(map(int, np.average(good_pts, axis=0, weights=weights)))\n",
    "\n",
    "            # 7. 绘制匹配结果\n",
    "            if (0 <= center_dst[0] <= target.shape[1] and\n",
    "                    0 <= center_dst[1] <= target.shape[0]):\n",
    "\n",
    "                # 绘制匹配框\n",
    "                x, y = int(center_dst[0]), int(center_dst[1])\n",
    "                h, w = template.shape[:2]\n",
    "                top_left = (x - w // 2, y - h // 2)\n",
    "                bottom_right = (x + w // 2, y + h // 2)\n",
    "                cv2.rectangle(target, top_left, bottom_right, (0, 255, 0), 3)\n",
    "\n",
    "                # 显示匹配框\n",
    "                cv2.imshow('Matched Result', target)\n",
    "                cv2.waitKey(0)\n",
    "                cv2.destroyAllWindows()\n",
    "\n",
    "                return center_dst\n",
    "            else:\n",
    "                return None\n",
    "        else:\n",
    "            # logger_run.warning(f\"Not enough good matches: {len(good)}/{MIN_MATCH_COUNT}\")\n",
    "            return None\n",
    "\n",
    "    except Exception as e:\n",
    "        # logger_run.error(f\"Error in template matching: {str(e)}\")\n",
    "        print(str(e))\n",
    "        return None\n"
   ],
   "metadata": {
    "collapsed": false,
    "ExecuteTime": {
     "end_time": "2024-12-20T05:44:15.413572600Z",
     "start_time": "2024-12-20T05:44:15.394118600Z"
    }
   },
   "id": "633bddffb5dbb120"
  },
  {
   "cell_type": "code",
   "execution_count": 144,
   "outputs": [],
   "source": [
    "target_path = \"./target.jpg\"\n",
    "template_path = \"./template.png\"\n",
    "match(target_path, template_path)"
   ],
   "metadata": {
    "collapsed": false,
    "ExecuteTime": {
     "end_time": "2024-12-20T05:44:16.742372600Z",
     "start_time": "2024-12-20T05:44:16.737520700Z"
    }
   },
   "id": "534455c3168c3d99"
  },
  {
   "cell_type": "markdown",
   "source": [
    "match(target_path,  template_path)"
   ],
   "metadata": {
    "collapsed": false
   },
   "id": "a583eeb927ab3a9c"
  },
  {
   "cell_type": "code",
   "execution_count": 147,
   "outputs": [],
   "source": [
    "import cv2\n",
    "import numpy as np\n",
    "\n",
    "\n",
    "def match(target_path, template_path, threshold=0.8):\n",
    "    \"\"\"\n",
    "    在目标图片中查找模板图片最匹配的位置，并返回匹配区域的中心点。\n",
    "    \n",
    "    参数:\n",
    "        target_path (str): 目标图片的路径\n",
    "        template_path (str): 模板图片的路径\n",
    "        threshold (float): 匹配阈值，值越高，要求越严格，默认值是 0.8\n",
    "    \n",
    "    返回:\n",
    "        tuple: 匹配位置的中心点坐标(x, y)，如果没有找到匹配则返回None\n",
    "    \"\"\"\n",
    "    try:\n",
    "        # 1. 读取目标图片和模板图片\n",
    "        target = cv2.imread(target_path)\n",
    "        template = cv2.imread(template_path)\n",
    "\n",
    "        # 检查图像是否成功加载\n",
    "        if target is None or template is None:\n",
    "            print(\"Failed to load images\")\n",
    "            return None\n",
    "\n",
    "        # 2. 进行模板匹配\n",
    "        result = cv2.matchTemplate(target, template, cv2.TM_CCOEFF_NORMED)\n",
    "\n",
    "        # 3. 查找匹配度最高的位置\n",
    "        min_val, max_val, min_loc, max_loc = cv2.minMaxLoc(result)\n",
    "\n",
    "        # 4. 如果最大匹配度超过阈值，则认为匹配成功\n",
    "        if max_val >= threshold:\n",
    "            # 计算匹配区域的中心点\n",
    "            h, w = template.shape[:2]\n",
    "            center_x = max_loc[0] + w // 2\n",
    "            center_y = max_loc[1] + h // 2\n",
    "\n",
    "            # 可视化匹配结果：绘制一个矩形框标识匹配区域\n",
    "            top_left = max_loc\n",
    "            bottom_right = (top_left[0] + w, top_left[1] + h)\n",
    "            cv2.rectangle(target, top_left, bottom_right, (0, 255, 0), 3)\n",
    "\n",
    "            # 显示匹配结果\n",
    "            cv2.imshow('Matched Result', target)\n",
    "            cv2.waitKey(0)\n",
    "            cv2.destroyAllWindows()\n",
    "\n",
    "            return (center_x, center_y)\n",
    "        else:\n",
    "            # 如果没有找到足够匹配的区域，返回 None\n",
    "            print(\"No match found with sufficient confidence\")\n",
    "            return None\n",
    "    except Exception as e:\n",
    "        print(f\"Error in template matching: {str(e)}\")\n",
    "        return None\n"
   ],
   "metadata": {
    "collapsed": false,
    "ExecuteTime": {
     "end_time": "2024-12-20T05:48:00.429312700Z",
     "start_time": "2024-12-20T05:48:00.406895Z"
    }
   },
   "id": "a828cf858470a2f3"
  },
  {
   "cell_type": "code",
   "execution_count": 148,
   "outputs": [
    {
     "name": "stdout",
     "output_type": "stream",
     "text": [
      "No match found with sufficient confidence\n"
     ]
    }
   ],
   "source": [
    "target_path = \"./target.jpg\"\n",
    "template_path = \"./template.png\"\n",
    "match(target_path, template_path)"
   ],
   "metadata": {
    "collapsed": false,
    "ExecuteTime": {
     "end_time": "2024-12-20T05:48:01.908051400Z",
     "start_time": "2024-12-20T05:48:01.781091400Z"
    }
   },
   "id": "8985351b3e37297e"
  },
  {
   "cell_type": "code",
   "execution_count": 134,
   "outputs": [],
   "source": [],
   "metadata": {
    "collapsed": false,
    "ExecuteTime": {
     "end_time": "2024-12-20T05:33:29.716369200Z",
     "start_time": "2024-12-20T05:33:29.691331200Z"
    }
   },
   "id": "2f2d1eb3b055b1ac"
  },
  {
   "cell_type": "code",
   "execution_count": 158,
   "outputs": [],
   "source": [
    "import os\n",
    "\n",
    "\n",
    "def match(target_path, template_path):\n",
    "    try:\n",
    "        target = cv2.imread(target_path)\n",
    "        template = cv2.imread(template_path)\n",
    "\n",
    "        # 检查图像是否读取成功\n",
    "        if template is None or target is None:\n",
    "            return None\n",
    "\n",
    "        sift = cv2.SIFT_create()\n",
    "\n",
    "        kp1, des1 = sift.detectAndCompute(template, None)\n",
    "        kp2, des2 = sift.detectAndCompute(target, None)\n",
    "\n",
    "        bf = cv2.BFMatcher()\n",
    "\n",
    "        matches = bf.knnMatch(des1, des2, k=2)\n",
    "\n",
    "        good = []\n",
    "        for m, n in matches:\n",
    "            if m.distance < 0.75 * n.distance:\n",
    "                good.append(m)\n",
    "\n",
    "        if len(good) > 0:\n",
    "            # 获取匹配点的坐标\n",
    "            # 模板图片匹配坐标\n",
    "            src_pts = np.float32([kp1[m.queryIdx].pt for m in good])\n",
    "\n",
    "            # 目标图片匹配坐标\n",
    "            dst_pts = np.float32([kp2[m.trainIdx].pt for m in good])\n",
    "\n",
    "            # 使用均值和标准差来检测和过滤离群点\n",
    "            mean = np.mean(dst_pts, axis=0)\n",
    "            std_dev = np.std(dst_pts, axis=0)\n",
    "\n",
    "            # 设置一个阈值，3倍标准差为过滤的标准\n",
    "            threshold = 1\n",
    "            lower_bound = mean - threshold * std_dev\n",
    "            upper_bound = mean + threshold * std_dev\n",
    "\n",
    "            # 过滤掉超出上下限的点\n",
    "            filtered_pts = dst_pts[\n",
    "                np.all((dst_pts >= lower_bound) & (dst_pts <= upper_bound), axis=1)\n",
    "            ]\n",
    "\n",
    "            if filtered_pts.size == 0:\n",
    "                return None\n",
    "\n",
    "            else:\n",
    "                # 计算匹配点的中心\n",
    "                # 模板图片中心\n",
    "                center_src = tuple(map(int, np.mean(src_pts, axis=0)))\n",
    "\n",
    "                # 目标图片中心\n",
    "                center_dst = tuple(map(int, np.mean(filtered_pts, axis=0)))\n",
    "\n",
    "                # 打印匹配点的中心\n",
    "                # 打印模板图片匹配到的中心点\n",
    "                print(f\"Center of matching points in small image: {center_src}\")\n",
    "                # 打印目标图片匹配到的中心点\n",
    "                print(f\"Center of matching points in large image: {center_dst}\")\n",
    "\n",
    "                # 在大图中标记匹配区域的中心点\n",
    "                img2_with_center = target.copy()\n",
    "                cv2.circle(img2_with_center, center_dst, 10, (0, 0, 255), -1)\n",
    "\n",
    "                # 画出匹配结果\n",
    "                img3 = cv2.drawMatches(template, kp1, img2_with_center, kp2, good, None,\n",
    "                                       flags=cv2.DrawMatchesFlags_NOT_DRAW_SINGLE_POINTS)\n",
    "\n",
    "                # 获取当前脚本的执行目录\n",
    "                current_directory = os.getcwd()\n",
    "\n",
    "                # 保存图片到当前目录\n",
    "                result_path = os.path.join(current_directory, 'matched_result.png')\n",
    "                isTrue = cv2.imwrite(result_path, img3)\n",
    "                if isTrue:\n",
    "                    print(\"匹配成功且将图片拉取到了本地\")\n",
    "                print(f\"Matching result saved at: {result_path}\")\n",
    "\n",
    "                # 返回目标图片匹配到的中心点\n",
    "                return center_dst\n",
    "        else:\n",
    "            return None\n",
    "    except FileNotFoundError as e:\n",
    "        return None"
   ],
   "metadata": {
    "collapsed": false,
    "ExecuteTime": {
     "end_time": "2024-12-20T06:07:39.224039300Z",
     "start_time": "2024-12-20T06:07:39.210258200Z"
    }
   },
   "id": "314edda8f3e35f81"
  },
  {
   "cell_type": "code",
   "execution_count": 159,
   "outputs": [
    {
     "name": "stdout",
     "output_type": "stream",
     "text": [
      "Center of matching points in small image: (102, 121)\n",
      "Center of matching points in large image: (989, 631)\n",
      "匹配成功且将图片拉取到了本地\n",
      "Matching result saved at: D:\\code_workspace\\self_project\\study-python-language\\matched_result.png\n"
     ]
    },
    {
     "data": {
      "text/plain": "(989, 631)"
     },
     "execution_count": 159,
     "metadata": {},
     "output_type": "execute_result"
    }
   ],
   "source": [
    "target_path = \"./target.jpg\"\n",
    "template_path = \"./template.png\"\n",
    "match(target_path, template_path)"
   ],
   "metadata": {
    "collapsed": false,
    "ExecuteTime": {
     "end_time": "2024-12-20T06:07:39.881084100Z",
     "start_time": "2024-12-20T06:07:39.707373400Z"
    }
   },
   "id": "8103f0cb0390c8cd"
  },
  {
   "cell_type": "code",
   "execution_count": 168,
   "outputs": [],
   "source": [
    "date_ = \"2024-12-20\"\n",
    "# date_ = \n",
    "# print(date_)"
   ],
   "metadata": {
    "collapsed": false,
    "ExecuteTime": {
     "end_time": "2024-12-20T09:02:10.244813600Z",
     "start_time": "2024-12-20T09:02:10.239641200Z"
    }
   },
   "id": "d48b3d5034f678e4"
  },
  {
   "cell_type": "code",
   "execution_count": 169,
   "outputs": [],
   "source": [
    " # == date"
   ],
   "metadata": {
    "collapsed": false,
    "ExecuteTime": {
     "end_time": "2024-12-20T09:02:11.029078600Z",
     "start_time": "2024-12-20T09:02:11.018855100Z"
    }
   },
   "id": "cfbc79442e999543"
  },
  {
   "cell_type": "code",
   "execution_count": 170,
   "outputs": [
    {
     "name": "stdout",
     "output_type": "stream",
     "text": [
      "<class 'datetime.date'>\n"
     ]
    }
   ],
   "source": [
    "# print(type(d))"
   ],
   "metadata": {
    "collapsed": false,
    "ExecuteTime": {
     "end_time": "2024-12-20T09:02:12.302157500Z",
     "start_time": "2024-12-20T09:02:12.279697900Z"
    }
   },
   "id": "5b1d88cb46c426a7"
  },
  {
   "cell_type": "code",
   "execution_count": 172,
   "outputs": [
    {
     "name": "stdout",
     "output_type": "stream",
     "text": [
      "<class 'datetime.date'>\n"
     ]
    }
   ],
   "source": [
    "# print(type())"
   ],
   "metadata": {
    "collapsed": false,
    "ExecuteTime": {
     "end_time": "2024-12-20T09:02:21.959715400Z",
     "start_time": "2024-12-20T09:02:21.944691100Z"
    }
   },
   "id": "f41b341a89450ca6"
  },
  {
   "cell_type": "code",
   "execution_count": null,
   "outputs": [],
   "source": [
    "datetime.now().date() == datetime.strptime(date_, \"%Y-%m-%d\").date()"
   ],
   "metadata": {
    "collapsed": false,
    "is_executing": true
   },
   "id": "f72f0e9aef2714e7"
  },
  {
   "cell_type": "code",
   "execution_count": null,
   "outputs": [],
   "source": [
    "print(\"hello world\")"
   ],
   "metadata": {
    "collapsed": false,
    "is_executing": true
   },
   "id": "17ad0aa245ae4e25"
  },
  {
   "cell_type": "code",
   "execution_count": null,
   "outputs": [],
   "source": [],
   "metadata": {
    "collapsed": false
   },
   "id": "11989e93efa7ac61"
  }
 ],
 "metadata": {
  "kernelspec": {
   "display_name": "Python 3",
   "language": "python",
   "name": "python3"
  },
  "language_info": {
   "codemirror_mode": {
    "name": "ipython",
    "version": 2
   },
   "file_extension": ".py",
   "mimetype": "text/x-python",
   "name": "python",
   "nbconvert_exporter": "python",
   "pygments_lexer": "ipython2",
   "version": "2.7.6"
  }
 },
 "nbformat": 4,
 "nbformat_minor": 5
}
